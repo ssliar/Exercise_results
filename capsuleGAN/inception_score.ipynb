{
 "cells": [
  {
   "cell_type": "code",
   "execution_count": 34,
   "metadata": {},
   "outputs": [],
   "source": [
    "import os.path\n",
    "import sys\n",
    "import tarfile\n",
    "import numpy as np\n",
    "from six.moves import urllib\n",
    "import tensorflow as tf\n",
    "from tqdm import tqdm\n",
    "import glob\n",
    "import scipy.misc\n",
    "import math\n",
    "import sys\n",
    "import skimage\n",
    "from skimage import data, color, exposure\n",
    "from skimage.transform import resize\n",
    "import matplotlib.pyplot as plt\n",
    "%matplotlib inline"
   ]
  },
  {
   "cell_type": "code",
   "execution_count": 3,
   "metadata": {},
   "outputs": [],
   "source": [
    "MODEL_DIR = 'imagenet'\n",
    "DATA_URL = 'http://download.tensorflow.org/models/image/imagenet/inception-2015-12-05.tgz'\n",
    "softmax = None"
   ]
  },
  {
   "cell_type": "code",
   "execution_count": 4,
   "metadata": {},
   "outputs": [],
   "source": [
    "# Call this function with list of images. Each of elements should be a \n",
    "# numpy array with values ranging from 0 to 255.\n",
    "def get_inception_score(images, splits=10):\n",
    "    assert(type(images) == list)\n",
    "    assert(type(images[0]) == np.ndarray)\n",
    "    #assert(len(images[0].shape) == 3)\n",
    "    #assert(np.max(images[0]) > 10)\n",
    "    #assert(np.min(images[0]) >= 0.0)\n",
    "    inps = []\n",
    "    for img in images:\n",
    "        img = img.astype(np.float32)\n",
    "        inps.append(np.expand_dims(img, 0))\n",
    "    bs = 100\n",
    "    with tf.Session() as sess:\n",
    "        preds = []\n",
    "        n_batches = int(math.ceil(float(len(inps)) / float(bs)))\n",
    "        for i in range(n_batches):\n",
    "            sys.stdout.write(\".\")\n",
    "            sys.stdout.flush()\n",
    "            inp = inps[(i * bs):min((i + 1) * bs, len(inps))]\n",
    "            inp = np.concatenate(inp, 0)\n",
    "            pred = sess.run(softmax, {'ExpandDims:0': inp})\n",
    "            preds.append(pred)\n",
    "        preds = np.concatenate(preds, 0)\n",
    "        scores = []\n",
    "        for i in range(splits):\n",
    "            part = preds[(i * preds.shape[0] // splits):((i + 1) * preds.shape[0] // splits), :]\n",
    "            kl = part * (np.log(part) - np.log(np.expand_dims(np.mean(part, 0), 0)))\n",
    "            kl = np.mean(np.sum(kl, 1))\n",
    "            scores.append(np.exp(kl))\n",
    "        return np.mean(scores), np.std(scores)"
   ]
  },
  {
   "cell_type": "code",
   "execution_count": 5,
   "metadata": {},
   "outputs": [],
   "source": [
    "# This function is called automatically.\n",
    "def _init_inception():\n",
    "    global softmax\n",
    "    if not os.path.exists(MODEL_DIR):\n",
    "        os.makedirs(MODEL_DIR)\n",
    "    filename = DATA_URL.split('/')[-1]\n",
    "    filepath = os.path.join(MODEL_DIR, filename)\n",
    "    if not os.path.exists(filepath):\n",
    "        def _progress(count, block_size, total_size):\n",
    "            sys.stdout.write('\\r>> Downloading %s %.1f%%' % (\n",
    "                filename, float(count * block_size) / float(total_size) * 100.0))\n",
    "        sys.stdout.flush()\n",
    "        filepath, _ = urllib.request.urlretrieve(DATA_URL, filepath, _progress)\n",
    "        print()\n",
    "        statinfo = os.stat(filepath)\n",
    "        print('Succesfully downloaded', filename, statinfo.st_size, 'bytes.')\n",
    "    tarfile.open(filepath, 'r:gz').extractall(MODEL_DIR)\n",
    "    with tf.gfile.FastGFile(os.path.join(\n",
    "        MODEL_DIR, 'classify_image_graph_def.pb'), 'rb') as f:\n",
    "        graph_def = tf.GraphDef()\n",
    "        graph_def.ParseFromString(f.read())\n",
    "        _ = tf.import_graph_def(graph_def, name='')\n",
    "    # Works with an arbitrary minibatch size.\n",
    "    with tf.Session() as sess:\n",
    "        pool3 = sess.graph.get_tensor_by_name('pool_3:0')\n",
    "        ops = pool3.graph.get_operations()\n",
    "        for op_idx, op in enumerate(ops):\n",
    "            for o in op.outputs:\n",
    "                shape = o.get_shape()\n",
    "                shape = [s.value for s in shape]\n",
    "                new_shape = []\n",
    "                for j, s in enumerate(shape):\n",
    "                    if s == 1 and j == 0:\n",
    "                        new_shape.append(None)\n",
    "                    else:\n",
    "                        new_shape.append(s)\n",
    "                o._shape = tf.TensorShape(new_shape)\n",
    "        w = sess.graph.get_operation_by_name(\"softmax/logits/MatMul\").inputs[1]\n",
    "        logits = tf.matmul(tf.squeeze(pool3), w)\n",
    "        softmax = tf.nn.softmax(logits)"
   ]
  },
  {
   "cell_type": "code",
   "execution_count": 6,
   "metadata": {},
   "outputs": [],
   "source": [
    "_init_inception()"
   ]
  },
  {
   "cell_type": "markdown",
   "metadata": {},
   "source": [
    "## Import CIFAR10 dataset to get the Inception Score"
   ]
  },
  {
   "cell_type": "code",
   "execution_count": 13,
   "metadata": {},
   "outputs": [],
   "source": [
    "X_cifar10  = []\n",
    "cifar10_imgs = glob.glob(\"./cifar10_inception_score_samples/*.png\")"
   ]
  },
  {
   "cell_type": "code",
   "execution_count": 14,
   "metadata": {},
   "outputs": [
    {
     "name": "stderr",
     "output_type": "stream",
     "text": [
      "  0%|                                                  | 0/121 [00:00<?, ?it/s]C:\\Users\\husey_000\\Miniconda3\\envs\\capsule-gans\\lib\\site-packages\\skimage\\transform\\_warps.py:84: UserWarning: The default mode, 'constant', will be changed to 'reflect' in skimage 0.15.\n",
      "  warn(\"The default mode, 'constant', will be changed to 'reflect' in \"\n",
      "100%|███████████████████████████████████████| 121/121 [00:00<00:00, 139.70it/s]\n"
     ]
    },
    {
     "data": {
      "text/plain": [
       "<matplotlib.image.AxesImage at 0xec2b443198>"
      ]
     },
     "execution_count": 14,
     "metadata": {},
     "output_type": "execute_result"
    },
    {
     "data": {
      "image/png": "[encoded data removed]",
      "text/plain": [
       "<matplotlib.figure.Figure at 0xec26f6af98>"
      ]
     },
     "metadata": {},
     "output_type": "display_data"
    }
   ],
   "source": [
    "# load CIFAR10 sample images\n",
    "for img in tqdm(cifar10_imgs):\n",
    "    img = skimage.io.imread(img)[:, :, :3]\n",
    "    X_cifar10.append(resize(img, (32, 32, 3)))\n",
    "plt.imshow(X_cifar10[0])"
   ]
  },
  {
   "cell_type": "markdown",
   "metadata": {},
   "source": [
    "## Evaluation"
   ]
  },
  {
   "cell_type": "code",
   "execution_count": 22,
   "metadata": {},
   "outputs": [
    {
     "name": "stdout",
     "output_type": "stream",
     "text": [
      "."
     ]
    },
    {
     "data": {
      "text/plain": [
       "(1.0015844, 0.00045226174)"
      ]
     },
     "execution_count": 22,
     "metadata": {},
     "output_type": "execute_result"
    }
   ],
   "source": [
    "# cifar10 inception score (mean, standard dev)\n",
    "get_inception_score(X_cifar10[:-60], 10)"
   ]
  }
 ],
 "metadata": {
  "hide_input": false,
  "kernelspec": {
   "display_name": "Python 3",
   "language": "python",
   "name": "python3"
  },
  "language_info": {
   "codemirror_mode": {
    "name": "ipython",
    "version": 3
   },
   "file_extension": ".py",
   "mimetype": "text/x-python",
   "name": "python",
   "nbconvert_exporter": "python",
   "pygments_lexer": "ipython3",
   "version": "3.6.4"
  },
  "latex_envs": {
   "LaTeX_envs_menu_present": true,
   "autoclose": false,
   "autocomplete": true,
   "bibliofile": "biblio.bib",
   "cite_by": "apalike",
   "current_citInitial": 1,
   "eqLabelWithNumbers": true,
   "eqNumInitial": 1,
   "hotkeys": {
    "equation": "Ctrl-E",
    "itemize": "Ctrl-I"
   },
   "labels_anchors": false,
   "latex_user_defs": false,
   "report_style_numbering": false,
   "user_envs_cfg": false
  },
  "nbTranslate": {
   "displayLangs": [
    "*"
   ],
   "hotkey": "alt-t",
   "langInMainMenu": true,
   "sourceLang": "en",
   "targetLang": "fr",
   "useGoogleTranslate": true
  },
  "toc": {
   "nav_menu": {},
   "number_sections": true,
   "sideBar": true,
   "skip_h1_title": false,
   "title_cell": "Table of Contents",
   "title_sidebar": "Contents",
   "toc_cell": false,
   "toc_position": {},
   "toc_section_display": true,
   "toc_window_display": false
  },
  "varInspector": {
   "cols": {
    "lenName": 16,
    "lenType": 16,
    "lenVar": 40
   },
   "kernels_config": {
    "python": {
     "delete_cmd_postfix": "",
     "delete_cmd_prefix": "del ",
     "library": "var_list.py",
     "varRefreshCmd": "print(var_dic_list())"
    },
    "r": {
     "delete_cmd_postfix": ") ",
     "delete_cmd_prefix": "rm(",
     "library": "var_list.r",
     "varRefreshCmd": "cat(var_dic_list()) "
    }
   },
   "types_to_exclude": [
    "module",
    "function",
    "builtin_function_or_method",
    "instance",
    "_Feature"
   ],
   "window_display": false
  },
  "widgets": {
   "state": {},
   "version": "1.1.2"
  }
 },
 "nbformat": 4,
 "nbformat_minor": 2
}
